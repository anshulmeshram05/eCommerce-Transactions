{
  "nbformat": 4,
  "nbformat_minor": 0,
  "metadata": {
    "colab": {
      "provenance": []
    },
    "kernelspec": {
      "name": "python3",
      "display_name": "Python 3"
    },
    "language_info": {
      "name": "python"
    }
  },
  "cells": [
    {
      "cell_type": "code",
      "execution_count": null,
      "metadata": {
        "id": "Hy8SXEvNgz3A"
      },
      "outputs": [],
      "source": [
        "import pandas as pd\n",
        "from sklearn.metrics.pairwise import cosine_similarity\n",
        "from sklearn.feature_extraction.text import TfidfVectorizer"
      ]
    },
    {
      "cell_type": "code",
      "source": [
        "customers_df = pd.read_csv(\"Customers.csv\")\n",
        "products_df = pd.read_csv(\"Products.csv\")\n",
        "transactions_df = pd.read_csv(\"Transactions.csv\")"
      ],
      "metadata": {
        "id": "EVLPpjTJg-QC"
      },
      "execution_count": null,
      "outputs": []
    },
    {
      "cell_type": "code",
      "source": [
        "merged_df = transactions_df.merge(customers_df, on='CustomerID').merge(products_df, on='ProductID')\n"
      ],
      "metadata": {
        "id": "1YkSryIkhFh4"
      },
      "execution_count": null,
      "outputs": []
    },
    {
      "cell_type": "code",
      "source": [
        "customer_product_matrix = merged_df.pivot_table(\n",
        "    index='CustomerID',\n",
        "    columns='ProductName',\n",
        "    values='Quantity',\n",
        "    aggfunc='sum',\n",
        "    fill_value=0\n",
        ")"
      ],
      "metadata": {
        "id": "ndnI0AT2hHlo"
      },
      "execution_count": null,
      "outputs": []
    },
    {
      "cell_type": "code",
      "source": [
        "similarity_matrix = cosine_similarity(customer_product_matrix)\n"
      ],
      "metadata": {
        "id": "4bhsXzCThJsq"
      },
      "execution_count": null,
      "outputs": []
    },
    {
      "cell_type": "code",
      "source": [
        "similarity_df = pd.DataFrame(\n",
        "    similarity_matrix,\n",
        "    index=customer_product_matrix.index,\n",
        "    columns=customer_product_matrix.index\n",
        ")\n"
      ],
      "metadata": {
        "id": "0TbfvaRYhLRs"
      },
      "execution_count": null,
      "outputs": []
    },
    {
      "cell_type": "code",
      "source": [
        "lookalike_results = {}\n",
        "\n",
        "for customer_id in customers_df['CustomerID'][:20]:\n",
        "    if customer_id in similarity_df.index:\n",
        "        similar_customers = (\n",
        "            similarity_df[customer_id]\n",
        "            .sort_values(ascending=False)\n",
        "            .iloc[1:4]\n",
        "        )\n",
        "        lookalike_results[customer_id] = list(similar_customers.items())\n"
      ],
      "metadata": {
        "id": "hNQqqX9UhMuh"
      },
      "execution_count": null,
      "outputs": []
    },
    {
      "cell_type": "code",
      "source": [
        "lookalike_df = pd.DataFrame([\n",
        "    {\n",
        "        'CustomerID': cust_id,\n",
        "        'Lookalikes': str([{sim[0]: sim[1]} for sim in lookalikes])\n",
        "    }\n",
        "    for cust_id, lookalikes in lookalike_results.items()\n",
        "])\n",
        "lookalike_df.to_csv(\"Anshul_Meshram_Lookalike.csv\", index=False)"
      ],
      "metadata": {
        "id": "QQCXZB6ihP_D"
      },
      "execution_count": null,
      "outputs": []
    },
    {
      "cell_type": "code",
      "source": [
        "print(\"Lookalike recommendations generated and saved to Anshul_Meshram_Lookalike.csv.\")"
      ],
      "metadata": {
        "colab": {
          "base_uri": "https://localhost:8080/"
        },
        "id": "aQmiVIachUsb",
        "outputId": "faa4075c-81ba-48ce-966a-dafd5c6d7f8b"
      },
      "execution_count": null,
      "outputs": [
        {
          "output_type": "stream",
          "name": "stdout",
          "text": [
            "Lookalike recommendations generated and saved to FirstName_LastName_Lookalike.csv.\n"
          ]
        }
      ]
    },
    {
      "cell_type": "code",
      "source": [],
      "metadata": {
        "id": "PBq10hl4hXtO"
      },
      "execution_count": null,
      "outputs": []
    }
  ]
}