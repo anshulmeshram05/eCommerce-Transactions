{
  "nbformat": 4,
  "nbformat_minor": 0,
  "metadata": {
    "colab": {
      "provenance": []
    },
    "kernelspec": {
      "name": "python3",
      "display_name": "Python 3"
    },
    "language_info": {
      "name": "python"
    }
  },
  "cells": [
    {
      "cell_type": "code",
      "source": [
        "!pip install fpdf"
      ],
      "metadata": {
        "colab": {
          "base_uri": "https://localhost:8080/"
        },
        "id": "snqnU7jrcvQo",
        "outputId": "8b901b46-40cd-46d4-b7ee-156d3f2ed43e"
      },
      "execution_count": 20,
      "outputs": [
        {
          "output_type": "stream",
          "name": "stdout",
          "text": [
            "Requirement already satisfied: fpdf in /usr/local/lib/python3.11/dist-packages (1.7.2)\n"
          ]
        }
      ]
    },
    {
      "cell_type": "code",
      "source": [
        "import pandas as pd\n",
        "import matplotlib.pyplot as plt\n",
        "import seaborn as sns\n",
        "from fpdf import FPDF"
      ],
      "metadata": {
        "id": "AJwnzsbocvyz"
      },
      "execution_count": 21,
      "outputs": []
    },
    {
      "cell_type": "code",
      "source": [
        "customers_df = pd.read_csv(\"Customers.csv\")\n",
        "products_df = pd.read_csv(\"Products.csv\")\n",
        "transactions_df = pd.read_csv(\"Transactions.csv\")"
      ],
      "metadata": {
        "id": "yO05XMSrc15d"
      },
      "execution_count": 22,
      "outputs": []
    },
    {
      "cell_type": "code",
      "source": [
        "customers_df['SignupDate'] = pd.to_datetime(customers_df['SignupDate'])\n",
        "transactions_df['TransactionDate'] = pd.to_datetime(transactions_df['TransactionDate'])"
      ],
      "metadata": {
        "id": "NwhQSQWDdC3y"
      },
      "execution_count": 23,
      "outputs": []
    },
    {
      "cell_type": "code",
      "source": [
        "merged_df = transactions_df.merge(customers_df, on='CustomerID').merge(products_df, on='ProductID')\n"
      ],
      "metadata": {
        "id": "q4DLvfuXdR03"
      },
      "execution_count": 24,
      "outputs": []
    },
    {
      "cell_type": "markdown",
      "source": [
        "# 1. Summary statistics"
      ],
      "metadata": {
        "id": "fPE7PG00dZ9o"
      }
    },
    {
      "cell_type": "code",
      "source": [
        "summary_stats = merged_df.describe()"
      ],
      "metadata": {
        "id": "Txi3maXidTKK"
      },
      "execution_count": 25,
      "outputs": []
    },
    {
      "cell_type": "markdown",
      "source": [
        "# 2. Top 5 regions by transaction count\n"
      ],
      "metadata": {
        "id": "WmF9rOZYdglP"
      }
    },
    {
      "cell_type": "code",
      "source": [
        "region_transaction_counts = merged_df['Region'].value_counts()\n"
      ],
      "metadata": {
        "id": "lKBIkqDgdk6B"
      },
      "execution_count": 26,
      "outputs": []
    },
    {
      "cell_type": "markdown",
      "source": [
        "# 3. Top 5 products by quantity sold\n"
      ],
      "metadata": {
        "id": "jgtGUG8Tdobr"
      }
    },
    {
      "cell_type": "code",
      "source": [
        "top_products = merged_df.groupby('ProductName')['Quantity'].sum().sort_values(ascending=False).head(5)\n"
      ],
      "metadata": {
        "id": "oYX9urUvdnv8"
      },
      "execution_count": 27,
      "outputs": []
    },
    {
      "cell_type": "markdown",
      "source": [
        "# 4. Revenue by category\n"
      ],
      "metadata": {
        "id": "_JFbOyTDdvov"
      }
    },
    {
      "cell_type": "code",
      "source": [
        "revenue_by_category = merged_df.groupby('Category')['TotalValue'].sum().sort_values(ascending=False)\n"
      ],
      "metadata": {
        "id": "QOMxcbVWduG6"
      },
      "execution_count": 28,
      "outputs": []
    },
    {
      "cell_type": "markdown",
      "source": [
        "# 5. Customer lifetime value\n"
      ],
      "metadata": {
        "id": "CzPzLoVTdyDY"
      }
    },
    {
      "cell_type": "code",
      "source": [
        "customer_lifetime_value = merged_df.groupby('CustomerID')['TotalValue'].sum().sort_values(ascending=False).head(5)\n"
      ],
      "metadata": {
        "id": "yyt35mzbd0c0"
      },
      "execution_count": 29,
      "outputs": []
    },
    {
      "cell_type": "markdown",
      "source": [
        "# Visualizations\n"
      ],
      "metadata": {
        "id": "pQa0TX8Td46-"
      }
    },
    {
      "cell_type": "code",
      "source": [
        "plt.figure(figsize=(10, 6))\n",
        "sns.barplot(x=region_transaction_counts.index, y=region_transaction_counts.values)\n",
        "plt.title(\"Top Regions by Transaction Count\")\n",
        "plt.xlabel(\"Region\")\n",
        "plt.ylabel(\"Transaction Count\")\n",
        "plt.xticks(rotation=45)\n",
        "plt.savefig(\"Anshul_Meshram_region_transaction_counts.png\")\n",
        "plt.close()\n",
        "\n",
        "plt.figure(figsize=(10, 6))\n",
        "sns.barplot(x=top_products.index, y=top_products.values)\n",
        "plt.title(\"Top 5 Products by Quantity Sold\")\n",
        "plt.xlabel(\"Product\")\n",
        "plt.ylabel(\"Quantity Sold\")\n",
        "plt.xticks(rotation=45)\n",
        "plt.savefig(\"Anshul_Meshram_top_products.png\")\n",
        "plt.close()\n",
        "\n",
        "plt.figure(figsize=(10, 6))\n",
        "sns.barplot(x=revenue_by_category.index, y=revenue_by_category.values)\n",
        "plt.title(\"Revenue by Product Category\")\n",
        "plt.xlabel(\"Category\")\n",
        "plt.ylabel(\"Revenue\")\n",
        "plt.xticks(rotation=45)\n",
        "plt.savefig(\"Anshul_Meshram_revenue_by_category.png\")\n",
        "plt.close()"
      ],
      "metadata": {
        "id": "Lyt-eUWqd5m8"
      },
      "execution_count": 30,
      "outputs": []
    },
    {
      "cell_type": "markdown",
      "source": [
        "PDF Report"
      ],
      "metadata": {
        "id": "9i7-ArC-eDCk"
      }
    },
    {
      "cell_type": "code",
      "source": [
        "class PDF(FPDF):\n",
        "    def header(self):\n",
        "        self.set_font('Arial', 'B', 12)\n",
        "        self.cell(0, 10, 'EDA Report - eCommerce Transactions', 0, 1, 'C')\n",
        "\n",
        "    def chapter_title(self, title):\n",
        "        self.set_font('Arial', 'B', 12)\n",
        "        self.cell(0, 10, title, 0, 1, 'L')\n",
        "        self.ln(5)\n",
        "\n",
        "    def chapter_body(self, body):\n",
        "        self.set_font('Arial', '', 12)\n",
        "        self.multi_cell(0, 10, body)\n",
        "        self.ln()"
      ],
      "metadata": {
        "id": "bQ5dAS0YeCEE"
      },
      "execution_count": 31,
      "outputs": []
    },
    {
      "cell_type": "code",
      "source": [
        "pdf = PDF()\n",
        "pdf.add_page()"
      ],
      "metadata": {
        "id": "_eDG_D8neIso"
      },
      "execution_count": 32,
      "outputs": []
    },
    {
      "cell_type": "code",
      "source": [
        "pdf.chapter_title(\"Business Insights\")\n",
        "pdf.chapter_body(\n",
        "    \"1. Top regions by transaction count: {}\".format(region_transaction_counts.head(3).to_dict()) +\n",
        "    \"\\n2. Top products by quantity sold: {}\".format(top_products.to_dict()) +\n",
        "    \"\\n3. Revenue by category: {}\".format(revenue_by_category.head(3).to_dict()) +\n",
        "    \"\\n4. Top customers by lifetime value: {}\".format(customer_lifetime_value.to_dict())\n",
        ")"
      ],
      "metadata": {
        "id": "dwuwfkUoeLwE"
      },
      "execution_count": 33,
      "outputs": []
    },
    {
      "cell_type": "code",
      "source": [
        "pdf.chapter_title(\"Visualizations\")\n",
        "pdf.image(\"Anshul_Meshram_region_transaction_counts.png\", w=150)\n",
        "pdf.image(\"Anshul_Meshram_top_products.png\", w=150)\n",
        "pdf.image(\"Anshul_Meshram_revenue_by_category.png\", w=150)"
      ],
      "metadata": {
        "id": "nBgUJR-3eTkn"
      },
      "execution_count": 34,
      "outputs": []
    },
    {
      "cell_type": "code",
      "source": [
        "pdf.output(\"Anshul_Meshram_EDA.pdf\")"
      ],
      "metadata": {
        "colab": {
          "base_uri": "https://localhost:8080/",
          "height": 35
        },
        "id": "ao1_xG0reXZo",
        "outputId": "5053c4da-c67a-4d2d-ff79-3c1230d9a518"
      },
      "execution_count": 35,
      "outputs": [
        {
          "output_type": "execute_result",
          "data": {
            "text/plain": [
              "''"
            ],
            "application/vnd.google.colaboratory.intrinsic+json": {
              "type": "string"
            }
          },
          "metadata": {},
          "execution_count": 35
        }
      ]
    },
    {
      "cell_type": "code",
      "source": [
        "print(\"EDA Report and visualizations generated successfully with proper naming convention.\")\n"
      ],
      "metadata": {
        "colab": {
          "base_uri": "https://localhost:8080/"
        },
        "id": "xCv0gdK7ebsd",
        "outputId": "9a72be7b-12f7-4d25-e5af-f9fa692ab4b6"
      },
      "execution_count": 36,
      "outputs": [
        {
          "output_type": "stream",
          "name": "stdout",
          "text": [
            "EDA Report and visualizations generated successfully with proper naming convention.\n"
          ]
        }
      ]
    }
  ]
}